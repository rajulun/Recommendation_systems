{
  "nbformat": 4,
  "nbformat_minor": 0,
  "metadata": {
    "kernelspec": {
      "display_name": "Python 3",
      "language": "python",
      "name": "python3"
    },
    "language_info": {
      "codemirror_mode": {
        "name": "ipython",
        "version": 3
      },
      "file_extension": ".py",
      "mimetype": "text/x-python",
      "name": "python",
      "nbconvert_exporter": "python",
      "pygments_lexer": "ipython3",
      "version": "3.7.3"
    },
    "colab": {
      "name": "Recommendation systems Lesson2.ipynb",
      "provenance": [],
      "collapsed_sections": []
    }
  },
  "cells": [
    {
      "cell_type": "code",
      "metadata": {
        "id": "30IJnnP6bSbf",
        "colab_type": "code",
        "colab": {}
      },
      "source": [
        "# !pip install implicit"
      ],
      "execution_count": 292,
      "outputs": []
    },
    {
      "cell_type": "code",
      "metadata": {
        "id": "yWfMmIJiawPp",
        "colab_type": "code",
        "colab": {}
      },
      "source": [
        "import pandas as pd\n",
        "import numpy as np\n",
        "import matplotlib.pyplot as plt\n",
        "%matplotlib inline\n",
        "\n",
        "# Для работы с матрицами\n",
        "from scipy.sparse import csr_matrix, coo_matrix\n",
        "\n",
        "# Детерминированные алгоритмы\n",
        "from implicit.nearest_neighbours import ItemItemRecommender, CosineRecommender, TFIDFRecommender, BM25Recommender\n",
        "\n",
        "# Метрики\n",
        "from implicit.evaluation import train_test_split\n",
        "from implicit.evaluation import precision_at_k, mean_average_precision_at_k, AUC_at_k, ndcg_at_k"
      ],
      "execution_count": 293,
      "outputs": []
    },
    {
      "cell_type": "code",
      "metadata": {
        "id": "w-GydpiLdYlu",
        "colab_type": "code",
        "colab": {}
      },
      "source": [
        "# !wget url\n",
        "# !unzip retail_train.csv.zip -d ../data > /dev/null"
      ],
      "execution_count": 294,
      "outputs": []
    },
    {
      "cell_type": "code",
      "metadata": {
        "id": "TAjbLp9aawP-",
        "colab_type": "code",
        "colab": {
          "base_uri": "https://localhost:8080/",
          "height": 112
        },
        "outputId": "ede53ca3-bed0-487f-e987-24a0aea2f859"
      },
      "source": [
        "data = pd.read_csv('../data/retail_train.csv')\n",
        "data.head(2)"
      ],
      "execution_count": 295,
      "outputs": [
        {
          "output_type": "execute_result",
          "data": {
            "text/html": [
              "<div>\n",
              "<style scoped>\n",
              "    .dataframe tbody tr th:only-of-type {\n",
              "        vertical-align: middle;\n",
              "    }\n",
              "\n",
              "    .dataframe tbody tr th {\n",
              "        vertical-align: top;\n",
              "    }\n",
              "\n",
              "    .dataframe thead th {\n",
              "        text-align: right;\n",
              "    }\n",
              "</style>\n",
              "<table border=\"1\" class=\"dataframe\">\n",
              "  <thead>\n",
              "    <tr style=\"text-align: right;\">\n",
              "      <th></th>\n",
              "      <th>user_id</th>\n",
              "      <th>basket_id</th>\n",
              "      <th>day</th>\n",
              "      <th>item_id</th>\n",
              "      <th>quantity</th>\n",
              "      <th>sales_value</th>\n",
              "      <th>store_id</th>\n",
              "      <th>retail_disc</th>\n",
              "      <th>trans_time</th>\n",
              "      <th>week_no</th>\n",
              "      <th>coupon_disc</th>\n",
              "      <th>coupon_match_disc</th>\n",
              "    </tr>\n",
              "  </thead>\n",
              "  <tbody>\n",
              "    <tr>\n",
              "      <th>0</th>\n",
              "      <td>2375</td>\n",
              "      <td>26984851472</td>\n",
              "      <td>1</td>\n",
              "      <td>1004906</td>\n",
              "      <td>1</td>\n",
              "      <td>1.39</td>\n",
              "      <td>364</td>\n",
              "      <td>-0.6</td>\n",
              "      <td>1631</td>\n",
              "      <td>1</td>\n",
              "      <td>0.0</td>\n",
              "      <td>0.0</td>\n",
              "    </tr>\n",
              "    <tr>\n",
              "      <th>1</th>\n",
              "      <td>2375</td>\n",
              "      <td>26984851472</td>\n",
              "      <td>1</td>\n",
              "      <td>1033142</td>\n",
              "      <td>1</td>\n",
              "      <td>0.82</td>\n",
              "      <td>364</td>\n",
              "      <td>0.0</td>\n",
              "      <td>1631</td>\n",
              "      <td>1</td>\n",
              "      <td>0.0</td>\n",
              "      <td>0.0</td>\n",
              "    </tr>\n",
              "  </tbody>\n",
              "</table>\n",
              "</div>"
            ],
            "text/plain": [
              "   user_id    basket_id  day  ...  week_no  coupon_disc  coupon_match_disc\n",
              "0     2375  26984851472    1  ...        1          0.0                0.0\n",
              "1     2375  26984851472    1  ...        1          0.0                0.0\n",
              "\n",
              "[2 rows x 12 columns]"
            ]
          },
          "metadata": {
            "tags": []
          },
          "execution_count": 295
        }
      ]
    },
    {
      "cell_type": "code",
      "metadata": {
        "id": "JAy2QXrpawQW",
        "colab_type": "code",
        "colab": {}
      },
      "source": [
        "test_size_weeks = 3\n",
        "\n",
        "data_train = data[data['week_no'] < data['week_no'].max() - test_size_weeks]\n",
        "data_test = data[data['week_no'] >= data['week_no'].max() - test_size_weeks]"
      ],
      "execution_count": 296,
      "outputs": []
    },
    {
      "cell_type": "code",
      "metadata": {
        "id": "rH3KwpnuhyuP",
        "colab_type": "code",
        "colab": {
          "base_uri": "https://localhost:8080/",
          "height": 35
        },
        "outputId": "e69eaed6-afeb-4d1d-d0cf-0b5e6027a58c"
      },
      "source": [
        "data_train.shape[0], data_test.shape[0]"
      ],
      "execution_count": 297,
      "outputs": [
        {
          "output_type": "execute_result",
          "data": {
            "text/plain": [
              "(2278490, 118314)"
            ]
          },
          "metadata": {
            "tags": []
          },
          "execution_count": 297
        }
      ]
    },
    {
      "cell_type": "code",
      "metadata": {
        "id": "fJ4D3QlOiHA8",
        "colab_type": "code",
        "colab": {
          "base_uri": "https://localhost:8080/",
          "height": 112
        },
        "outputId": "55d6c3e7-ceac-4848-e245-eddd14e90393"
      },
      "source": [
        "result = data_test.groupby('user_id')['item_id'].unique().reset_index()\n",
        "result.columns=['user_id', 'actual']\n",
        "result.head(2)"
      ],
      "execution_count": 298,
      "outputs": [
        {
          "output_type": "execute_result",
          "data": {
            "text/html": [
              "<div>\n",
              "<style scoped>\n",
              "    .dataframe tbody tr th:only-of-type {\n",
              "        vertical-align: middle;\n",
              "    }\n",
              "\n",
              "    .dataframe tbody tr th {\n",
              "        vertical-align: top;\n",
              "    }\n",
              "\n",
              "    .dataframe thead th {\n",
              "        text-align: right;\n",
              "    }\n",
              "</style>\n",
              "<table border=\"1\" class=\"dataframe\">\n",
              "  <thead>\n",
              "    <tr style=\"text-align: right;\">\n",
              "      <th></th>\n",
              "      <th>user_id</th>\n",
              "      <th>actual</th>\n",
              "    </tr>\n",
              "  </thead>\n",
              "  <tbody>\n",
              "    <tr>\n",
              "      <th>0</th>\n",
              "      <td>1</td>\n",
              "      <td>[821867, 834484, 856942, 865456, 889248, 90795...</td>\n",
              "    </tr>\n",
              "    <tr>\n",
              "      <th>1</th>\n",
              "      <td>3</td>\n",
              "      <td>[835476, 851057, 872021, 878302, 879948, 90963...</td>\n",
              "    </tr>\n",
              "  </tbody>\n",
              "</table>\n",
              "</div>"
            ],
            "text/plain": [
              "   user_id                                             actual\n",
              "0        1  [821867, 834484, 856942, 865456, 889248, 90795...\n",
              "1        3  [835476, 851057, 872021, 878302, 879948, 90963..."
            ]
          },
          "metadata": {
            "tags": []
          },
          "execution_count": 298
        }
      ]
    },
    {
      "cell_type": "code",
      "metadata": {
        "id": "V2wLbe7mjEML",
        "colab_type": "code",
        "colab": {
          "base_uri": "https://localhost:8080/",
          "height": 54
        },
        "outputId": "49b54a3d-24e5-4a62-fb0f-be444ed602fd"
      },
      "source": [
        "test_users = result.shape[0]\n",
        "new_test_users = len(set(data_test['user_id']) - set(data_train['user_id']))\n",
        "\n",
        "print('В тестовом дата сете {} юзеров'.format(test_users))\n",
        "print('В тестовом дата сете {} новых юзеров'.format(new_test_users))"
      ],
      "execution_count": 299,
      "outputs": [
        {
          "output_type": "stream",
          "text": [
            "В тестовом дата сете 2042 юзеров\n",
            "В тестовом дата сете 0 новых юзеров\n"
          ],
          "name": "stdout"
        }
      ]
    },
    {
      "cell_type": "markdown",
      "metadata": {
        "id": "G4dAQMH8awQk",
        "colab_type": "text"
      },
      "source": [
        "### Задание 1. Weighted Random Recommendation\n",
        "\n",
        "Напишите код для случайных рекоммендаций, в которых вероятность рекомендовать товар прямо пропорциональна логарифму продаж\n",
        "- Можно сэмплировать товары случайно, но пропорционально какому-либо весу\n",
        "- Например, прямопропорционально популярности. Вес = log(sales_sum товара)"
      ]
    },
    {
      "cell_type": "code",
      "metadata": {
        "id": "O56EPDZ3awQm",
        "colab_type": "code",
        "colab": {}
      },
      "source": [
        "def weighted_random_recommendation(items_weights, n=5):\n",
        "    \"\"\"Случайные рекоммендации\n",
        "    \n",
        "    Input\n",
        "    -----\n",
        "    items_weights: pd.DataFrame\n",
        "        Датафрейм со столбцами item_id, weight. Сумма weight по всем товарам = 1\n",
        "    \"\"\"\n",
        "    items = items_weights['item_id'].values\n",
        "    weights = items_weights['weights'].values\n",
        "    recs = np.random.choice(items, size=n, replace=False, p=weights)\n",
        "\n",
        "    # Подсказка: необходимо модифицировать функцию random_recommendation()\n",
        "    # your_code\n",
        "    \n",
        "    return recs.tolist()"
      ],
      "execution_count": 300,
      "outputs": []
    },
    {
      "cell_type": "code",
      "metadata": {
        "id": "YrFlMo3msLeU",
        "colab_type": "code",
        "colab": {}
      },
      "source": [
        ""
      ],
      "execution_count": 300,
      "outputs": []
    },
    {
      "cell_type": "code",
      "metadata": {
        "id": "WuQ7F0Vzs6Nf",
        "colab_type": "code",
        "colab": {
          "base_uri": "https://localhost:8080/",
          "height": 54
        },
        "outputId": "46d14e9e-e570-4c6c-fd67-e6def383cf65"
      },
      "source": [
        "%%time\n",
        "\n",
        "items_weights = data_train.groupby('item_id')['sales_value'].sum().reset_index()\n",
        "items_weights = items_weights[items_weights['sales_value']>1]\n",
        "items_weights['weights']= np.log(items_weights['sales_value'] + 0.0000001)\n",
        "items_weights.drop('sales_value', axis=1, inplace=True)\n",
        "items_weights['weights'] = items_weights['weights'] / items_weights['weights'].sum()\n",
        "# items_weights.head()\n",
        "\n",
        "result['weighted_random_recommendation'] = result['user_id'].apply\\\n",
        "                                    (lambda x: weighted_random_recommendation(items_weights, n=5))                        "
      ],
      "execution_count": 301,
      "outputs": [
        {
          "output_type": "stream",
          "text": [
            "CPU times: user 2.83 s, sys: 26.4 ms, total: 2.85 s\n",
            "Wall time: 2.86 s\n"
          ],
          "name": "stdout"
        }
      ]
    },
    {
      "cell_type": "code",
      "metadata": {
        "id": "dBW1Fj1OawQy",
        "colab_type": "code",
        "colab": {
          "base_uri": "https://localhost:8080/",
          "height": 206
        },
        "outputId": "3ff4314b-87f5-4677-9d1b-c28245888e6e"
      },
      "source": [
        "result.head() "
      ],
      "execution_count": 302,
      "outputs": [
        {
          "output_type": "execute_result",
          "data": {
            "text/html": [
              "<div>\n",
              "<style scoped>\n",
              "    .dataframe tbody tr th:only-of-type {\n",
              "        vertical-align: middle;\n",
              "    }\n",
              "\n",
              "    .dataframe tbody tr th {\n",
              "        vertical-align: top;\n",
              "    }\n",
              "\n",
              "    .dataframe thead th {\n",
              "        text-align: right;\n",
              "    }\n",
              "</style>\n",
              "<table border=\"1\" class=\"dataframe\">\n",
              "  <thead>\n",
              "    <tr style=\"text-align: right;\">\n",
              "      <th></th>\n",
              "      <th>user_id</th>\n",
              "      <th>actual</th>\n",
              "      <th>weighted_random_recommendation</th>\n",
              "    </tr>\n",
              "  </thead>\n",
              "  <tbody>\n",
              "    <tr>\n",
              "      <th>0</th>\n",
              "      <td>1</td>\n",
              "      <td>[821867, 834484, 856942, 865456, 889248, 90795...</td>\n",
              "      <td>[7157315, 9836299, 1336524, 932761, 858829]</td>\n",
              "    </tr>\n",
              "    <tr>\n",
              "      <th>1</th>\n",
              "      <td>3</td>\n",
              "      <td>[835476, 851057, 872021, 878302, 879948, 90963...</td>\n",
              "      <td>[14050831, 850004, 1013807, 5568860, 1011645]</td>\n",
              "    </tr>\n",
              "    <tr>\n",
              "      <th>2</th>\n",
              "      <td>6</td>\n",
              "      <td>[920308, 926804, 946489, 1006718, 1017061, 107...</td>\n",
              "      <td>[7443166, 1083358, 1134152, 15713433, 6904826]</td>\n",
              "    </tr>\n",
              "    <tr>\n",
              "      <th>3</th>\n",
              "      <td>7</td>\n",
              "      <td>[840386, 889774, 898068, 909714, 929067, 95347...</td>\n",
              "      <td>[1119051, 12810279, 15831353, 1029624, 9222012]</td>\n",
              "    </tr>\n",
              "    <tr>\n",
              "      <th>4</th>\n",
              "      <td>8</td>\n",
              "      <td>[835098, 872137, 910439, 924610, 992977, 10412...</td>\n",
              "      <td>[778485, 938724, 10149851, 986006, 990789]</td>\n",
              "    </tr>\n",
              "  </tbody>\n",
              "</table>\n",
              "</div>"
            ],
            "text/plain": [
              "   user_id  ...                   weighted_random_recommendation\n",
              "0        1  ...      [7157315, 9836299, 1336524, 932761, 858829]\n",
              "1        3  ...    [14050831, 850004, 1013807, 5568860, 1011645]\n",
              "2        6  ...   [7443166, 1083358, 1134152, 15713433, 6904826]\n",
              "3        7  ...  [1119051, 12810279, 15831353, 1029624, 9222012]\n",
              "4        8  ...       [778485, 938724, 10149851, 986006, 990789]\n",
              "\n",
              "[5 rows x 3 columns]"
            ]
          },
          "metadata": {
            "tags": []
          },
          "execution_count": 302
        }
      ]
    },
    {
      "cell_type": "code",
      "metadata": {
        "id": "EectDWMzAr3W",
        "colab_type": "code",
        "colab": {}
      },
      "source": [
        ""
      ],
      "execution_count": 302,
      "outputs": []
    },
    {
      "cell_type": "markdown",
      "metadata": {
        "id": "0dbGbfQyawRA",
        "colab_type": "text"
      },
      "source": [
        "### Задание 2. Расчет метрик\n",
        "Рассчитайте Precision@5 для каждого алгоритма с помощью функции из вебинара 1. Какой алгоритм показывает лучшее качество?"
      ]
    },
    {
      "cell_type": "code",
      "metadata": {
        "id": "fu65P-yc3vpB",
        "colab_type": "code",
        "colab": {}
      },
      "source": [
        "# !cp predictions_basic.csv -d ../predictions > /dev/null"
      ],
      "execution_count": 303,
      "outputs": []
    },
    {
      "cell_type": "code",
      "metadata": {
        "id": "yUQZiXaOLjsa",
        "colab_type": "code",
        "colab": {
          "base_uri": "https://localhost:8080/",
          "height": 182
        },
        "outputId": "a4698a14-4582-4dee-ed6e-4bedbb9ad487"
      },
      "source": [
        "result = pd.read_csv('../predictions/predictions_basic.csv', converters={'actual': p, \n",
        "         'random_recommendation': eval, 'popular_recommendation': eval, \n",
        "         'itemitem': eval, 'cosine': eval, 'tfidf': eval, 'own_purchases': eval})\n",
        "result.head(2)"
      ],
      "execution_count": 304,
      "outputs": [
        {
          "output_type": "execute_result",
          "data": {
            "text/html": [
              "<div>\n",
              "<style scoped>\n",
              "    .dataframe tbody tr th:only-of-type {\n",
              "        vertical-align: middle;\n",
              "    }\n",
              "\n",
              "    .dataframe tbody tr th {\n",
              "        vertical-align: top;\n",
              "    }\n",
              "\n",
              "    .dataframe thead th {\n",
              "        text-align: right;\n",
              "    }\n",
              "</style>\n",
              "<table border=\"1\" class=\"dataframe\">\n",
              "  <thead>\n",
              "    <tr style=\"text-align: right;\">\n",
              "      <th></th>\n",
              "      <th>user_id</th>\n",
              "      <th>actual</th>\n",
              "      <th>random_recommendation</th>\n",
              "      <th>popular_recommendation</th>\n",
              "      <th>itemitem</th>\n",
              "      <th>cosine</th>\n",
              "      <th>tfidf</th>\n",
              "      <th>own_purchases</th>\n",
              "    </tr>\n",
              "  </thead>\n",
              "  <tbody>\n",
              "    <tr>\n",
              "      <th>0</th>\n",
              "      <td>1</td>\n",
              "      <td>[821867, 834484, 856942, 865456, 889248, 90795...</td>\n",
              "      <td>[5586238, 1015228, 866118, 2416733, 2603573]</td>\n",
              "      <td>[6534178, 6533889, 1029743, 6534166, 1082185]</td>\n",
              "      <td>[981760, 1127831, 1098066, 826249, 878996]</td>\n",
              "      <td>[981760, 1127831, 1098066, 878996, 826249]</td>\n",
              "      <td>[981760, 1127831, 1098066, 826249, 878996]</td>\n",
              "      <td>[999999, 1082185, 1029743, 995785, 1004906]</td>\n",
              "    </tr>\n",
              "    <tr>\n",
              "      <th>1</th>\n",
              "      <td>3</td>\n",
              "      <td>[835476, 851057, 872021, 878302, 879948, 90963...</td>\n",
              "      <td>[161354, 63027, 1027802, 12263694, 307395]</td>\n",
              "      <td>[6534178, 6533889, 1029743, 6534166, 1082185]</td>\n",
              "      <td>[981760, 995242, 1029743, 840361, 961554]</td>\n",
              "      <td>[981760, 1004906, 961554, 1096036, 1080414]</td>\n",
              "      <td>[981760, 1004906, 859075, 1096036, 961554]</td>\n",
              "      <td>[999999, 1082185, 1098066, 6534178, 1127831]</td>\n",
              "    </tr>\n",
              "  </tbody>\n",
              "</table>\n",
              "</div>"
            ],
            "text/plain": [
              "   user_id  ...                                 own_purchases\n",
              "0        1  ...   [999999, 1082185, 1029743, 995785, 1004906]\n",
              "1        3  ...  [999999, 1082185, 1098066, 6534178, 1127831]\n",
              "\n",
              "[2 rows x 8 columns]"
            ]
          },
          "metadata": {
            "tags": []
          },
          "execution_count": 304
        }
      ]
    },
    {
      "cell_type": "code",
      "metadata": {
        "id": "JQBLv4EjZ1NU",
        "colab_type": "code",
        "colab": {}
      },
      "source": [
        "def precision_at_k(recommended_list, bought_list, k=5):\n",
        "    \n",
        "    bought_list = np.array(bought_list)\n",
        "    recommended_list = np.array(recommended_list)\n",
        "    \n",
        "    # bought_list = bought_list \n",
        "    recommended_list = recommended_list[:k]\n",
        "    \n",
        "    flags = np.isin(bought_list, recommended_list)\n",
        "    \n",
        "    precision = flags.sum() / k\n",
        "    \n",
        "    return precision"
      ],
      "execution_count": 305,
      "outputs": []
    },
    {
      "cell_type": "code",
      "metadata": {
        "id": "wUPxTpWjawRP",
        "colab_type": "code",
        "colab": {
          "base_uri": "https://localhost:8080/",
          "height": 127
        },
        "outputId": "11988f54-d38e-47c2-9621-4be28a179d68"
      },
      "source": [
        "# your_code\n",
        "\n",
        "for col in result.iloc[:,2:]:\n",
        "    print(\"Precision@5 для алгоритма\", col, \": \",\"{0:}\".format(result.apply\n",
        "          (lambda row: precision_at_k(row[col], row['actual'], k=5), axis=1).mean()))"
      ],
      "execution_count": 310,
      "outputs": [
        {
          "output_type": "stream",
          "text": [
            "Precision@5 для алгоритма random_recommendation :  0.0005876591576885406\n",
            "Precision@5 для алгоритма popular_recommendation :  0.15523996082272082\n",
            "Precision@5 для алгоритма itemitem :  0.033594515181195064\n",
            "Precision@5 для алгоритма cosine :  0.03525954946131262\n",
            "Precision@5 для алгоритма tfidf :  0.03614103819784544\n",
            "Precision@5 для алгоритма own_purchases :  0.17992164544563902\n"
          ],
          "name": "stdout"
        }
      ]
    },
    {
      "cell_type": "markdown",
      "metadata": {
        "id": "QTQi6_X8U08P",
        "colab_type": "text"
      },
      "source": [
        "Лучший результат показали алгоритмы own_purchases и popular_recommendation "
      ]
    },
    {
      "cell_type": "code",
      "metadata": {
        "id": "C0FAJ25dNoSf",
        "colab_type": "code",
        "colab": {}
      },
      "source": [
        ""
      ],
      "execution_count": 308,
      "outputs": []
    },
    {
      "cell_type": "markdown",
      "metadata": {
        "id": "GXqZOOBwawRY",
        "colab_type": "text"
      },
      "source": [
        "### Задание 3*. Улучшение бейзлайнов и ItemItem\n",
        "\n",
        "- Попробуйте улучшить бейзлайны, считая их на топ-5000 товаров\n",
        "- Попробуйте улучшить разные варианты ItemItemRecommender, выбирая число соседей $K$."
      ]
    },
    {
      "cell_type": "code",
      "metadata": {
        "id": "VTg8HeS6awRb",
        "colab_type": "code",
        "colab": {}
      },
      "source": [
        "# your_code"
      ],
      "execution_count": 308,
      "outputs": []
    }
  ]
}