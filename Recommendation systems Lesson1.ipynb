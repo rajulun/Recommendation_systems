{
  "nbformat": 4,
  "nbformat_minor": 0,
  "metadata": {
    "kernelspec": {
      "display_name": "Python 3",
      "language": "python",
      "name": "python3"
    },
    "language_info": {
      "codemirror_mode": {
        "name": "ipython",
        "version": 3
      },
      "file_extension": ".py",
      "mimetype": "text/x-python",
      "name": "python",
      "nbconvert_exporter": "python",
      "pygments_lexer": "ipython3",
      "version": "3.7.3"
    },
    "colab": {
      "name": "hw_webinar_1.ipynb",
      "provenance": [],
      "collapsed_sections": [
        "IyVHl9A8y7Mj",
        "tkqF_gFozMs4",
        "MxMCxFr-FoaX"
      ]
    }
  },
  "cells": [
    {
      "cell_type": "markdown",
      "metadata": {
        "id": "pJZU_qVQ5gig",
        "colab_type": "text"
      },
      "source": [
        "# Домащнее задание - 1"
      ]
    },
    {
      "cell_type": "markdown",
      "metadata": {
        "id": "hLnhMorL5gio",
        "colab_type": "text"
      },
      "source": [
        "Заполните пропуски #your_code для функций ниже"
      ]
    },
    {
      "cell_type": "code",
      "metadata": {
        "id": "vib2G9Ee5giu",
        "colab_type": "code",
        "colab": {}
      },
      "source": [
        "import numpy as np\n",
        "\n",
        "recommended_list = [143, 156, 1134, 991, 27, 1543, 3345, 533, 11, 43] #id товаров\n",
        "bought_list = [521, 32, 143, 991]\n",
        "\n",
        "prices_recommended = [100, 90, 10, 450, 50, 37, 99, 120, 34, 100]\n",
        "prices_bought = [110, 190, 100, 450]"
      ],
      "execution_count": 1,
      "outputs": []
    },
    {
      "cell_type": "markdown",
      "metadata": {
        "id": "IyVHl9A8y7Mj",
        "colab_type": "text"
      },
      "source": [
        "### hit rate at k"
      ]
    },
    {
      "cell_type": "code",
      "metadata": {
        "id": "3RWfaTrG5gjP",
        "colab_type": "code",
        "colab": {}
      },
      "source": [
        "def hit_rate_at_k(recommended_list, bought_list, k=5):\n",
        "    \n",
        "    # your_code\n",
        "    bought_list = np.array(bought_list)\n",
        "    recommended_list = np.array(recommended_list)\n",
        "\n",
        "    bought_list = bought_list \n",
        "    recommended_list = recommended_list[:k]    \n",
        "    \n",
        "    flags = np.isin(bought_list, recommended_list)\n",
        "    \n",
        "    hit_rate = (flags.sum() > 0) * 1\n",
        "    \n",
        "    return hit_rate"
      ],
      "execution_count": 2,
      "outputs": []
    },
    {
      "cell_type": "code",
      "metadata": {
        "id": "BPeCyUtEiJDH",
        "colab_type": "code",
        "colab": {
          "base_uri": "https://localhost:8080/",
          "height": 35
        },
        "outputId": "416c08ee-511d-4f82-c426-e35ad6dd2bfd"
      },
      "source": [
        "hit_rate_at_k(recommended_list, bought_list, 5)\n"
      ],
      "execution_count": 3,
      "outputs": [
        {
          "output_type": "execute_result",
          "data": {
            "text/plain": [
              "1"
            ]
          },
          "metadata": {
            "tags": []
          },
          "execution_count": 3
        }
      ]
    },
    {
      "cell_type": "markdown",
      "metadata": {
        "id": "tkqF_gFozMs4",
        "colab_type": "text"
      },
      "source": [
        "### money_precision_at_k"
      ]
    },
    {
      "cell_type": "code",
      "metadata": {
        "id": "y_NzpILK5gje",
        "colab_type": "code",
        "colab": {}
      },
      "source": [
        "def money_precision_at_k(recommended_list, bought_list, prices_recommended, k=5):\n",
        "        \n",
        "    # your_code\n",
        "    # Лучше считать через скалярное произведение, а не цикл\n",
        "    bought_list = np.array(bought_list)\n",
        "    recommended_list = np.array(recommended_list)\n",
        "    \n",
        "    bought_list = bought_list  \n",
        "    recommended_list = recommended_list[:k]\n",
        "    prices_recommended = prices_recommended[:k]\n",
        "    \n",
        "    flags = np.isin(recommended_list, bought_list)\n",
        "    precision = sum(flags * prices_recommended) / sum(prices_recommended)\n",
        "    return precision"
      ],
      "execution_count": 4,
      "outputs": []
    },
    {
      "cell_type": "code",
      "metadata": {
        "id": "vMrpcxTFocqT",
        "colab_type": "code",
        "colab": {
          "base_uri": "https://localhost:8080/",
          "height": 35
        },
        "outputId": "cf96608f-4703-472f-e24e-0072dca111fb"
      },
      "source": [
        "money_precision_at_k(recommended_list, bought_list, prices_recommended, 5)"
      ],
      "execution_count": 5,
      "outputs": [
        {
          "output_type": "execute_result",
          "data": {
            "text/plain": [
              "0.7857142857142857"
            ]
          },
          "metadata": {
            "tags": []
          },
          "execution_count": 5
        }
      ]
    },
    {
      "cell_type": "markdown",
      "metadata": {
        "id": "MxMCxFr-FoaX",
        "colab_type": "text"
      },
      "source": [
        "### recall"
      ]
    },
    {
      "cell_type": "code",
      "metadata": {
        "id": "SD0IKoRX5gjt",
        "colab_type": "code",
        "colab": {}
      },
      "source": [
        "def recall_at_k(recommended_list, bought_list, k=5):\n",
        "    \n",
        "    # your_code\n",
        "    bought_list = np.array(bought_list)\n",
        "    recommended_list = np.array(recommended_list)\n",
        "\n",
        "    bought_list = bought_list \n",
        "    recommended_list = recommended_list[:k]\n",
        "    \n",
        "    flags = np.isin(bought_list, recommended_list)  # [False, False, True, True]\n",
        "    \n",
        "    recall = flags.sum() / len(bought_list)\n",
        "    \n",
        "    return recall\n",
        "\n",
        "\n",
        "def money_recall_at_k(recommended_list, bought_list, prices_recommended, prices_bought, k=5):\n",
        "    \n",
        "    # your_code\n",
        "    bought_list = np.array(bought_list)\n",
        "    recommended_list = np.array(recommended_list)\n",
        "    prices_bought = np.array(prices_bought)\n",
        "    \n",
        "    bought_list = bought_list  \n",
        "    recommended_list = recommended_list[:k]\n",
        "    prices_recommended = prices_recommended[:k]\n",
        "    \n",
        "    flags = np.isin(recommended_list, bought_list)\n",
        "    recall = sum(flags * prices_recommended) / sum(prices_bought)\n",
        "    \n",
        "    return recall"
      ],
      "execution_count": 6,
      "outputs": []
    },
    {
      "cell_type": "code",
      "metadata": {
        "id": "XqMiLOc7JmpV",
        "colab_type": "code",
        "colab": {
          "base_uri": "https://localhost:8080/",
          "height": 54
        },
        "outputId": "c085be67-484c-4370-d821-6e477d1091b5"
      },
      "source": [
        "print(recall_at_k(recommended_list, bought_list, k=5))\n",
        "print(money_recall_at_k(recommended_list, bought_list, prices_recommended, prices_bought, k=5))"
      ],
      "execution_count": 7,
      "outputs": [
        {
          "output_type": "stream",
          "text": [
            "0.5\n",
            "0.6470588235294118\n"
          ],
          "name": "stdout"
        }
      ]
    },
    {
      "cell_type": "markdown",
      "metadata": {
        "id": "l_cyLONXh8Uv",
        "colab_type": "text"
      },
      "source": [
        "### MRR@k"
      ]
    },
    {
      "cell_type": "code",
      "metadata": {
        "id": "lmxQJK535gj6",
        "colab_type": "code",
        "colab": {}
      },
      "source": [
        "def reciprocal_rank_at_k(recommended_list, bought_list, k=5):  # на уроке говорилось про MRR@k, поэтому я добавил @k\n",
        "\n",
        "    # your_code\n",
        "    bought_list = np.array(bought_list)\n",
        "    recommended_list = np.array(recommended_list)\n",
        "\n",
        "    flags = np.isin(recommended_list[:k], bought_list)\n",
        "    result = np.array([1/(i+1) for i, x in enumerate(flags) if x]).mean()\n",
        "\n",
        "    return result"
      ],
      "execution_count": 13,
      "outputs": []
    },
    {
      "cell_type": "code",
      "metadata": {
        "id": "z1XvZIBifLAq",
        "colab_type": "code",
        "colab": {
          "base_uri": "https://localhost:8080/",
          "height": 35
        },
        "outputId": "f63ebd21-2644-4b0e-fcfe-5fa6fd3ed8c4"
      },
      "source": [
        "reciprocal_rank_at_k(recommended_list, bought_list)"
      ],
      "execution_count": 14,
      "outputs": [
        {
          "output_type": "execute_result",
          "data": {
            "text/plain": [
              "0.625"
            ]
          },
          "metadata": {
            "tags": []
          },
          "execution_count": 14
        }
      ]
    }
  ]
}